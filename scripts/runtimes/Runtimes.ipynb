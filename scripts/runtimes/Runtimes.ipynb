{
 "cells": [
  {
   "cell_type": "markdown",
   "metadata": {},
   "source": [
    "# Imports"
   ]
  },
  {
   "cell_type": "code",
   "execution_count": 1,
   "metadata": {
    "collapsed": true
   },
   "outputs": [],
   "source": [
    "import pickle as pkl\n",
    "import numpy as np"
   ]
  },
  {
   "cell_type": "markdown",
   "metadata": {},
   "source": [
    "# Load experimets"
   ]
  },
  {
   "cell_type": "code",
   "execution_count": null,
   "metadata": {},
   "outputs": [],
   "source": [
    "# load 1NN results\n",
    "with open('/mnt/ds3lab-scratch/ninow/final_results/network/model_predictions/knn_1/FC_L3_1024_256_64_TD_GTI_STI_grid_1_bs_64_tf_0.1_optim_sgd_lr_0.0005_sl_24/experiment_statistic.pkl', 'rb') as handle:\n",
    "    experiment_statistic_1NN = pkl.load(handle)\n",
    "    \n",
    "# load 3NN results\n",
    "with open('/mnt/ds3lab-scratch/ninow/final_results/network/model_predictions/knn_3/FC_L3_1024_256_64_TD_GTI_STI_grid_1_bs_64_tf_0.1_optim_sgd_lr_0.0005_sl_24/experiment_statistic.pkl', 'rb') as handle:\n",
    "    experiment_statistic_3NN = pkl.load(handle)\n",
    "    \n",
    "# load grid size 3 results\n",
    "with open('/mnt/ds3lab-scratch/ninow/final_results/network/model_predictions/grid_size_3/FC_L3_1024_256_64_TD_GTI_STI_grid_3_bs_64_tf_0.1_optim_sgd_lr_0.0005_sl_24/experiment_statistic.pkl', 'rb') as handle:\n",
    "    experiment_statistic_grid_size_3 = pkl.load(handle)\n",
    "    \n",
    "# load 1NN error prediction\n",
    "with open('/mnt/ds3lab-scratch/ninow/final_results/network/model_predictions/error_label/FC_L3_1024_256_64_TD_GTI_STI_grid_1_bs_64_tf_0.1_optim_sgd_lr_0.0005_sl_24/experiment_statistic.pkl', 'rb') as handle:\n",
    "    experiment_statistic_1NN_error_prediction = pkl.load(handle)"
   ]
  },
  {
   "cell_type": "markdown",
   "metadata": {},
   "source": [
    "### Calculate mean runtime per epoch"
   ]
  },
  {
   "cell_type": "code",
   "execution_count": 14,
   "metadata": {},
   "outputs": [
    {
     "data": {
      "text/plain": [
       "<xarray.DataArray 'run_time_statistic' (run: 5)>\n",
       "array([262.126112, 260.569469, 259.553092, 262.473181, 262.187121])\n",
       "Coordinates:\n",
       "  * run      (run) int64 0 1 2 3 4\n",
       "    time     <U5 'epoch'"
      ]
     },
     "execution_count": 14,
     "metadata": {},
     "output_type": "execute_result"
    }
   ],
   "source": [
    "np.mean(experiment_statistic_grid_size_3.run_time_statistic.sel(time = 'epoch'), axis=1)"
   ]
  }
 ],
 "metadata": {
  "kernelspec": {
   "display_name": "Python [default]",
   "language": "python",
   "name": "python3"
  },
  "language_info": {
   "codemirror_mode": {
    "name": "ipython",
    "version": 3
   },
   "file_extension": ".py",
   "mimetype": "text/x-python",
   "name": "python",
   "nbconvert_exporter": "python",
   "pygments_lexer": "ipython3",
   "version": "3.5.4"
  }
 },
 "nbformat": 4,
 "nbformat_minor": 2
}
