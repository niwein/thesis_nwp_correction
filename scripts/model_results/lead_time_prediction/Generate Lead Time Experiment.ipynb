{
 "cells": [
  {
   "cell_type": "markdown",
   "metadata": {},
   "source": [
    "## Imports"
   ]
  },
  {
   "cell_type": "code",
   "execution_count": 2,
   "metadata": {
    "collapsed": true
   },
   "outputs": [],
   "source": [
    "import glob\n",
    "import numpy as np\n",
    "import os\n",
    "import json\n",
    "\n",
    "from distutils.dir_util import copy_tree"
   ]
  },
  {
   "cell_type": "markdown",
   "metadata": {},
   "source": [
    "## Constants"
   ]
  },
  {
   "cell_type": "code",
   "execution_count": 3,
   "metadata": {
    "collapsed": true
   },
   "outputs": [],
   "source": [
    "base_experiment_path = '/home/ninow/master_thesis/code/project/results/runs/lead_time_prediction_experiment'\n",
    "experiment_path = base_experiment_path + '/experiment'"
   ]
  },
  {
   "cell_type": "markdown",
   "metadata": {},
   "source": [
    "## Create necessary Definitions for Experiment"
   ]
  },
  {
   "cell_type": "markdown",
   "metadata": {},
   "source": [
    "The reference experiment needs an \"experiment_parameters.txt\" file, describing all experiment specific parameters. Additionally, we need the model definition folder, what is the same for each experiment.<br>\n",
    "To adapt each experiments \"lead_time\" (input) and \"prediction_time\" (target), we have to set:<br>\n",
    "\"lead_times\":[LEAD_TIME_OF_INPUT]<br>\n",
    "\"prediction_times\":[LEAD_TIME_OF_PREDICTION]"
   ]
  },
  {
   "cell_type": "code",
   "execution_count": 4,
   "metadata": {
    "collapsed": true
   },
   "outputs": [],
   "source": [
    "# define a distionary with experiment parameters also used for the model runs\n",
    "experiment_parameters = {\n",
    "    \"grid_size\":1,\n",
    "    \"n_loaders\":16, \n",
    "    \"batch_size\":64,\n",
    "    \"epochs\":30,\n",
    "    \"runs\":3,\n",
    "    \"test_fraction\":0.1,\n",
    "    \"optimizer\": {\n",
    "        \"algorithm\":\"sgd\",\n",
    "        \"learning_rate\":0.0005,\n",
    "        \"lr_decay\":0.9,\n",
    "        \"momentum\":0.9},\n",
    "    \"slice_size\":24\n",
    "}\n"
   ]
  },
  {
   "cell_type": "markdown",
   "metadata": {},
   "source": [
    "## Create Experiments <br>\n",
    "This generates the experiment folders (including model config and experiemnt parameter file) for each lead time a network should be trained and evaluated"
   ]
  },
  {
   "cell_type": "code",
   "execution_count": 5,
   "metadata": {
    "collapsed": true
   },
   "outputs": [],
   "source": [
    "for lead_time in np.arange(1,34,5):\n",
    "    lead_specific_experiment_path = experiment_path + '/lead_time_%s' % lead_time\n",
    "    \n",
    "    # create folder for experiment\n",
    "    if not os.path.exists(lead_specific_experiment_path):\n",
    "        os.makedirs(lead_specific_experiment_path)\n",
    "    \n",
    "    # copy model definition\n",
    "    copy_tree(base_experiment_path + '/experiment_definition/', lead_specific_experiment_path + '/')\n",
    "    \n",
    "    # adapt experiment parameters dict to current first station and add it to the experiment folder\n",
    "    experiment_parameters['lead_times'] = [int(lead_time)]\n",
    "    experiment_parameters['prediction_times'] = [int(lead_time)]\n",
    "    \n",
    "    with open(lead_specific_experiment_path + '/experiment_parameters.txt', 'w') as file:\n",
    "         file.write(json.dumps(experiment_parameters))"
   ]
  },
  {
   "cell_type": "code",
   "execution_count": null,
   "metadata": {
    "collapsed": true
   },
   "outputs": [],
   "source": []
  },
  {
   "cell_type": "code",
   "execution_count": null,
   "metadata": {
    "collapsed": true
   },
   "outputs": [],
   "source": []
  }
 ],
 "metadata": {
  "kernelspec": {
   "display_name": "Python [default]",
   "language": "python",
   "name": "python3"
  },
  "language_info": {
   "codemirror_mode": {
    "name": "ipython",
    "version": 3
   },
   "file_extension": ".py",
   "mimetype": "text/x-python",
   "name": "python",
   "nbconvert_exporter": "python",
   "pygments_lexer": "ipython3",
   "version": "3.5.4"
  }
 },
 "nbformat": 4,
 "nbformat_minor": 2
}
