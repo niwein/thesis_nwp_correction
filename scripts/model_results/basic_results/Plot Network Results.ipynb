{
 "cells": [
  {
   "cell_type": "markdown",
   "metadata": {},
   "source": [
    "### Imports"
   ]
  },
  {
   "cell_type": "code",
   "execution_count": 1,
   "metadata": {
    "collapsed": true
   },
   "outputs": [],
   "source": [
    "import os\n",
    "import glob\n",
    "from collections import defaultdict\n",
    "from multiprocessing.pool import Pool\n",
    "import matplotlib.patches as mpatches\n",
    "\n",
    "import numpy as np\n",
    "import matplotlib\n",
    "import re\n",
    "import sys\n",
    "import pickle as pkl\n",
    "\n",
    "from matplotlib import pyplot as plt\n",
    "from datetime import datetime\n",
    "from cycler import cycler\n",
    "import xarray as xr\n",
    "\n",
    "sys.path.append('/home/ninow/master_thesis/code/project/')\n",
    "from utils.data import DataUtils"
   ]
  },
  {
   "cell_type": "markdown",
   "metadata": {},
   "source": [
    "### Define Constants"
   ]
  },
  {
   "cell_type": "code",
   "execution_count": 2,
   "metadata": {
    "collapsed": true
   },
   "outputs": [],
   "source": [
    "base_path = '/home/ninow/master_thesis/code/project/results/model_results/basic_results/'\n",
    "output_path = base_path + '/plots'"
   ]
  },
  {
   "cell_type": "markdown",
   "metadata": {},
   "source": [
    "### Load Data"
   ]
  },
  {
   "cell_type": "code",
   "execution_count": 3,
   "metadata": {
    "collapsed": true
   },
   "outputs": [],
   "source": [
    "# load 1NN results\n",
    "with open('/mnt/ds3lab-scratch/ninow/final_results/network/model_predictions/knn_1/FC_L3_1024_256_64_TD_GTI_STI_grid_1_bs_64_tf_0.1_optim_sgd_lr_0.0005_sl_24/experiment_statistic.pkl', 'rb') as handle:\n",
    "    experiment_statistic_1NN = pkl.load(handle)\n",
    "    \n",
    "# load 3NN results\n",
    "with open('/mnt/ds3lab-scratch/ninow/final_results/network/model_predictions/knn_3/FC_L3_1024_256_64_TD_GTI_STI_grid_1_bs_64_tf_0.1_optim_sgd_lr_0.0005_sl_24/experiment_statistic.pkl', 'rb') as handle:\n",
    "    experiment_statistic_3NN = pkl.load(handle)\n",
    "    \n",
    "# load grid size 3 results\n",
    "with open('/mnt/ds3lab-scratch/ninow/final_results/network/model_predictions/grid_size_3/FC_L3_1024_256_64_TD_GTI_STI_grid_3_bs_64_tf_0.1_optim_sgd_lr_0.0005_sl_24/experiment_statistic.pkl', 'rb') as handle:\n",
    "    experiment_statistic_grid_size_3 = pkl.load(handle)\n",
    "    \n",
    "# load 1NN error prediction\n",
    "with open('/mnt/ds3lab-scratch/ninow/final_results/network/model_predictions/error_label/FC_L3_1024_256_64_TD_GTI_STI_grid_1_bs_64_tf_0.1_optim_sgd_lr_0.0005_sl_24/experiment_statistic.pkl', 'rb') as handle:\n",
    "    experiment_statistic_1NN_error_prediction = pkl.load(handle)"
   ]
  },
  {
   "cell_type": "code",
   "execution_count": 13,
   "metadata": {},
   "outputs": [
    {
     "name": "stdout",
     "output_type": "stream",
     "text": [
      "Model test RMSE: 1.2687412554348299\n",
      "Model test RMSE: 1.2868086604823532\n"
     ]
    }
   ],
   "source": [
    "print(\"Model test RMSE:\", np.min(experiment_statistic_1NN_error_prediction.error_statistic.sel(run = 0, error = 'test')).item())\n",
    "print(\"Model test RMSE:\", np.min(experiment_statistic_1NN.error_statistic.sel(run = 0, error = 'test')).item())"
   ]
  },
  {
   "cell_type": "code",
   "execution_count": null,
   "metadata": {
    "collapsed": true
   },
   "outputs": [],
   "source": [
    "n_samples = experiment_statistic_1NN.samples_statistic[:,:,0] + experiment_statistic_1NN.samples_statistic[:,:,2]\n",
    "n_used = experiment_statistic_1NN.samples_statistic[:,:,1] + experiment_statistic_1NN.samples_statistic[:,:,3]"
   ]
  },
  {
   "cell_type": "code",
   "execution_count": 8,
   "metadata": {
    "collapsed": true
   },
   "outputs": [],
   "source": [
    "# load station positions to plot them on map\n",
    "station_data = pkl.load(open('/mnt/ds3lab-scratch/ninow/preprocessed_data/station/grid_size_1/time_invariant_data_per_station.pkl','rb'))\n",
    "station_positions = station_data.station_position.sel(positinal_attribute = ['rlat', 'rlon','height_raw'])\n",
    "stations = station_data.station\n",
    "station_names = station_data.station_name\n",
    "\n",
    "station_idx_mapping = {}\n",
    "for s_idx, s in enumerate(stations.data):\n",
    "    station_idx_mapping[s] = s_idx"
   ]
  },
  {
   "cell_type": "markdown",
   "metadata": {},
   "source": [
    "### Generate Train/Test Plot with all runs for 1NN"
   ]
  },
  {
   "cell_type": "markdown",
   "metadata": {},
   "source": [
    "#### Plot training results"
   ]
  },
  {
   "cell_type": "code",
   "execution_count": 129,
   "metadata": {
    "collapsed": true
   },
   "outputs": [],
   "source": [
    "if not os.path.exists(output_path):\n",
    "    os.makedirs(output_path)\n",
    "\n",
    "model_names = ['Grid Size 1 (1NN)', '3NN', 'Grid Size 3']\n",
    "error_statistics, epoch_results, best_results, run_times, samples_statistic = [], [], [], [], []\n",
    "runs = 0\n",
    "for ds_idx, ds in enumerate([experiment_statistic_1NN, experiment_statistic_3NN, experiment_statistic_grid_size_3]):\n",
    "\n",
    "    if runs == 0:\n",
    "        runs = ds.runs\n",
    "        \n",
    "    model_name = model_names[ds_idx]\n",
    "\n",
    "    # get times for which prediction were made\n",
    "    prediction_times = ds.error_statistic.prediction_times.data\n",
    "\n",
    "    # get the mean of train and test error over all runs, additionally calculate the std. dev. to the mean\n",
    "    # run_error_mean_std = tuple(mean, std), mean = ndarray(epoch, error), error = train or test error value,\n",
    "    # lead = prediction for T = lead\n",
    "    epoch_error_mean_std = (np.mean(ds.error_statistic.data, 0), np.std(ds.error_statistic.data, 0))\n",
    "    # look up in train/test mean error per epoch, for which epoch the train resp. test error is the best and\n",
    "    # return the index\n",
    "    best_train_epoch, best_test_epoch = np.argmin(epoch_error_mean_std[0], 0)\n",
    "    # advanced indexing: first select mean or variance. then define fore each prediction lead time the best epoch,\n",
    "    # the error (train = 0 or test = 1) and the prediction lead time itself.\n",
    "    # This reduces the [n_epoch, 2, n_future_predictions] -> [n__future_predictions\n",
    "    best_error_mean_std_epoch = (epoch_error_mean_std[0][best_train_epoch, 0, range(len(prediction_times))],\n",
    "                                 epoch_error_mean_std[1][best_train_epoch, 0, range(len(prediction_times))],\n",
    "                                 best_train_epoch,\n",
    "                                 epoch_error_mean_std[0][best_test_epoch, 1, range(len(prediction_times))],\n",
    "                                 epoch_error_mean_std[1][best_test_epoch, 1, range(len(prediction_times))],\n",
    "                                 best_test_epoch)\n",
    "\n",
    "    # get min, max, mean, std time over all runs and epochs\n",
    "    time_statistic = ds.run_time_statistic.data\n",
    "    # first tuple element: name, second tuple element: data [axis 0: [min, max, mean, std], axis 1: epoch, train, test]\n",
    "    run_times += [(model_name, np.array([np.min(time_statistic, axis=(0, 1)),\n",
    "                                         np.max(time_statistic, axis=(0, 1)),\n",
    "                                         np.mean(time_statistic, axis=(0, 1)),\n",
    "                                         np.std(time_statistic, axis=(0, 1))]))]\n",
    "\n",
    "    error_statistics += [(model_name, ds.error_statistic.data)]\n",
    "    epoch_results += [(model_name, epoch_error_mean_std)]\n",
    "    best_results += [(model_name, best_error_mean_std_epoch)]\n",
    "\n",
    "    samples_statistic += [(model_name, np.mean(ds.samples_statistic.data, axis=(0, 1)))]"
   ]
  },
  {
   "cell_type": "markdown",
   "metadata": {},
   "source": [
    "#### Plot test results"
   ]
  },
  {
   "cell_type": "code",
   "execution_count": 132,
   "metadata": {
    "collapsed": true
   },
   "outputs": [],
   "source": [
    "name, error_statistic = error_statistics[0]\n",
    "    \n",
    "# shape of error statistics: dim_0=Runs, dim_1=Epochs, dim_2=[train_err, test_err]\n",
    "runs, epochs, *_ = error_statistic.shape\n",
    "\n",
    "for prediction_time_idx, prediction_time in enumerate(prediction_times):\n",
    "\n",
    "    current_output_path = output_path + '/prediction_T%s' % prediction_time\n",
    "    if not os.path.exists(current_output_path):\n",
    "        os.makedirs(current_output_path)\n",
    "\n",
    "    x = [i + 1 for i in range(epochs)]\n",
    "\n",
    "    fig, axes = plt.subplots(2, sharey=True, figsize=(15, 15))\n",
    "    for run in range(runs):\n",
    "        axes[0].plot(x, error_statistic[run, :, 0, prediction_time_idx], alpha=0.5, label='Run %s' % str(run + 1))\n",
    "        axes[1].plot(x, error_statistic[run, :, 1, prediction_time_idx], alpha=0.5, label='Run %s' % str(run + 1))\n",
    "    axes[0].plot(x, np.mean(error_statistic[:, :, 0, prediction_time_idx], axis=0), 'r--', label='Mean')\n",
    "    axes[1].plot(x, np.mean(error_statistic[:, :, 1, prediction_time_idx], axis=0), 'r--', label='Mean')\n",
    "\n",
    "    axes[1].set_xlabel('Epoch', fontsize=16)\n",
    "\n",
    "    axes[0].set_title('Train Error', fontsize=16)\n",
    "    axes[1].set_title('Test Error', fontsize=16)\n",
    "    for i in range(2):\n",
    "        axes[i].set_xticks(x)\n",
    "        axes[i].set_ylabel('RMSE [°C]', fontsize=16)\n",
    "        axes[i].grid(True)\n",
    "        axes[i].legend()\n",
    "\n",
    "    axes[0].text(0.05, 0.1,\n",
    "                 'Min. Mean Error: %s' % \"{:2.3f}\".format(\n",
    "                     np.min(np.mean(error_statistic[:, :, 0, prediction_time_idx], axis=0))),\n",
    "                 fontsize=18, fontweight='bold', transform=axes[0].transAxes)\n",
    "    axes[1].text(0.05, 0.1,\n",
    "                 'Min. Mean Error: %s' % \"{:2.3f}\".format(\n",
    "                     np.min(np.mean(error_statistic[:, :, 1, prediction_time_idx], axis=0))),\n",
    "                 fontsize=18, fontweight='bold', transform=axes[1].transAxes)\n",
    "    axes[0].text(0.05, 0.05,\n",
    "                 'Min. Error: %s' % \"{:2.3f}\".format(np.min(error_statistic[:, :, 0, prediction_time_idx])),\n",
    "                 fontsize=18,\n",
    "                 transform=axes[0].transAxes)\n",
    "    axes[1].text(0.05, 0.05,\n",
    "                 'Min. Error: %s' % \"{:2.3f}\".format(np.min(error_statistic[:, :, 1, prediction_time_idx])),\n",
    "                 fontsize=18,\n",
    "                 transform=axes[1].transAxes)\n",
    "\n",
    "    plt.ylim(0, 1.2 * np.max(error_statistic[:, :, 0, prediction_time_idx]))\n",
    "    plt.suptitle(str(\" \".join(name.split(\"_\")) + \" (Lead Prediction = %s)\" % prediction_time), fontsize=20)\n",
    "    fig.tight_layout(rect=[0, 0.03, 1, 0.96], h_pad=4)\n",
    "    fig.savefig(output_path + '/grid_size_1_train_test_error_plot.png')\n",
    "    plt.close()"
   ]
  },
  {
   "cell_type": "markdown",
   "metadata": {},
   "source": [
    "### Generate Bar Plot wiht 1NN, 3NN and Grid Size 3"
   ]
  },
  {
   "cell_type": "markdown",
   "metadata": {},
   "source": [
    "### Prepare results of nerual networks to be plotted"
   ]
  },
  {
   "cell_type": "code",
   "execution_count": 71,
   "metadata": {
    "collapsed": true
   },
   "outputs": [],
   "source": [
    "if not os.path.exists(output_path):\n",
    "    os.makedirs(output_path)\n",
    "\n",
    "model_names = ['Grid Size 1 (1NN)', '3NN', 'Grid Size 3']\n",
    "error_statistics, epoch_results, best_results, run_times, samples_statistic = [], [], [], [], []\n",
    "runs = [0,1,2]\n",
    "for ds_idx, ds in enumerate([experiment_statistic_1NN, experiment_statistic_3NN, experiment_statistic_grid_size_3]):\n",
    "\n",
    "    # only use first three runs to be comparable to baselines\n",
    "    ds = ds.sel(run = runs)\n",
    "    \n",
    "    model_name = model_names[ds_idx]\n",
    "\n",
    "    # get times for which prediction were made\n",
    "    prediction_times = ds.error_statistic.prediction_times.data\n",
    "\n",
    "    # get the mean of train and test error over all runs, additionally calculate the std. dev. to the mean\n",
    "    # run_error_mean_std = tuple(mean, std), mean = ndarray(epoch, error), error = train or test error value,\n",
    "    # lead = prediction for T = lead\n",
    "    epoch_error_mean_std = (np.mean(ds.error_statistic.data, 0), np.std(ds.error_statistic.data, 0))\n",
    "    # look up in train/test mean error per epoch, for which epoch the train resp. test error is the best and\n",
    "    # return the index\n",
    "    best_train_epoch, best_test_epoch = np.argmin(epoch_error_mean_std[0], 0)\n",
    "    # advanced indexing: first select mean or variance. then define fore each prediction lead time the best epoch,\n",
    "    # the error (train = 0 or test = 1) and the prediction lead time itself.\n",
    "    # This reduces the [n_epoch, 2, n_future_predictions] -> [n__future_predictions\n",
    "    best_error_mean_std_epoch = (epoch_error_mean_std[0][best_train_epoch, 0, range(len(prediction_times))],\n",
    "                                 epoch_error_mean_std[1][best_train_epoch, 0, range(len(prediction_times))],\n",
    "                                 best_train_epoch,\n",
    "                                 epoch_error_mean_std[0][best_test_epoch, 1, range(len(prediction_times))],\n",
    "                                 epoch_error_mean_std[1][best_test_epoch, 1, range(len(prediction_times))],\n",
    "                                 best_test_epoch)\n",
    "\n",
    "    # get min, max, mean, std time over all runs and epochs\n",
    "    time_statistic = ds.run_time_statistic.data\n",
    "    # first tuple element: name, second tuple element: data [axis 0: [min, max, mean, std], axis 1: epoch, train, test]\n",
    "    run_times += [(model_name, np.array([np.min(time_statistic, axis=(0, 1)),\n",
    "                                         np.max(time_statistic, axis=(0, 1)),\n",
    "                                         np.mean(time_statistic, axis=(0, 1)),\n",
    "                                         np.std(time_statistic, axis=(0, 1))]))]\n",
    "\n",
    "    error_statistics += [(model_name, ds.error_statistic.data)]\n",
    "    epoch_results += [(model_name, epoch_error_mean_std)]\n",
    "    best_results += [(model_name, best_error_mean_std_epoch)]\n",
    "\n",
    "    samples_statistic += [(model_name, np.mean(ds.samples_statistic.data, axis=(0, 1)))]"
   ]
  },
  {
   "cell_type": "markdown",
   "metadata": {},
   "source": [
    "### Plot results for neural network models as bar plot"
   ]
  },
  {
   "cell_type": "code",
   "execution_count": 72,
   "metadata": {},
   "outputs": [
    {
     "data": {
      "image/png": "[encoded data removed]",
      "text/plain": [
       "<Figure size 720x432 with 1 Axes>"
      ]
     },
     "metadata": {},
     "output_type": "display_data"
    }
   ],
   "source": [
    "# create path if it does not exist\n",
    "if not os.path.exists(output_path):\n",
    "    os.makedirs(output_path)\n",
    "\n",
    "colors = ['g', 'b', 'y', 'c', 'm', 'k']\n",
    "\n",
    "model_names = ['Grid Size 3', '3NN', 'Grid Size 1 (1NN)']\n",
    "\n",
    "# plot train error\n",
    "plt.rc('lines', linewidth=1)\n",
    "plt.rc('axes', prop_cycle=(cycler('color', colors)))\n",
    "\n",
    "for prediction_time_idx, prediction_time in enumerate(prediction_times):\n",
    "\n",
    "    current_output_path = output_path + '/prediction_T%s' % prediction_time\n",
    "    if not os.path.exists(current_output_path):\n",
    "        os.makedirs(current_output_path)\n",
    "\n",
    "    # plot test error\n",
    "    best_test_results = sorted(best_results, key=lambda x: x[1][3][prediction_time_idx])\n",
    "    fig, ax = plt.subplots(figsize=(10, 6))\n",
    "\n",
    "    for idx, result in enumerate(best_test_results):\n",
    "        mean_train = result[1][0]\n",
    "        std_train = result[1][1]\n",
    "        mean_test = result[1][3]\n",
    "        std_test = result[1][4]\n",
    "        \n",
    "        # plot train rmse bar\n",
    "        ax.bar(x=idx, height=mean_train, width=0.15, yerr=std_train, label=result[0],\n",
    "               color=colors[idx % len(colors)], hatch='x')\n",
    "        ax.text(idx - 0.12, mean_train + .15, \"%.3f°C\" % mean_train, fontweight='bold')\n",
    "        \n",
    "        # plot test rmse bar\n",
    "        ax.bar(x=idx + 0.2, height=mean_test, width=0.15, yerr=std_test,\n",
    "               color=colors[idx % len(colors)], hatch='o')\n",
    "        ax.text(idx + 0.12, mean_test + .15, \"%.3f°C\" % mean_test, fontweight='bold')\n",
    "        \n",
    "    # plot baseline results\n",
    "    b3d_best_3_runs = 2.123\n",
    "    plt.axhline(y=b3d_best_3_runs, color='r', linewidth=2, linestyle='--')\n",
    "    ax.text(-0.1, b3d_best_3_runs + .05, \"B3d: %.3f°C\" % b3d_best_3_runs, color='r', fontweight='bold')\n",
    "    shmbcb3d_best_3_runs = 1.701\n",
    "    plt.axhline(y=shmbcb3d_best_3_runs, color='r', linewidth=2, linestyle='--')\n",
    "    ax.text(-0.1, shmbcb3d_best_3_runs + .05, \"SHMBCB3d: %.3f°C\" % shmbcb3d_best_3_runs, color='r', fontweight='bold')\n",
    "    \n",
    "    ax.set_xticks([])\n",
    "    plt.ylim(0,2.3)\n",
    "    plt.yticks(np.arange(0,2.3,0.1))\n",
    "    plt.ylabel('RMSE [°C]')\n",
    "    plt.grid()\n",
    "    plt.tight_layout(rect=[0, 0.03, 1, 0.95])\n",
    "    plt.title('Best Result of all Epochs for each Model averaged over all Runs', fontsize=16)\n",
    "    \n",
    "    # describe model as xticks\n",
    "    plt.tick_params(axis=u'both', which=u'both',length=0)\n",
    "    plt.xticks(np.arange(3) + 0.1, model_names, fontsize=16)\n",
    "    \n",
    "    # create legend to distinguish training and test\n",
    "    circ1 = mpatches.Patch(facecolor='white', hatch='x', label='Training')\n",
    "    circ2= mpatches.Patch(facecolor='white', hatch='o', label='Test')\n",
    "    ax.legend(handles=[circ1, circ2], loc='best', fancybox=True, framealpha=1, prop={'size':12})\n",
    "\n",
    "    fig.savefig(current_output_path + '/best_result_by_test_error.png')\n",
    "    \n",
    "    plt.show()\n",
    "    \n",
    "    plt.close()"
   ]
  },
  {
   "cell_type": "markdown",
   "metadata": {},
   "source": [
    "### Plots of forecast skill (FS) on the map of Switzerland <br>\n",
    "THIS CODE IS IN THE PLOT BASELINE RESULTS NOTEBOOK!"
   ]
  },
  {
   "cell_type": "markdown",
   "metadata": {},
   "source": [
    "# Backup (not used)"
   ]
  },
  {
   "cell_type": "markdown",
   "metadata": {},
   "source": [
    "## Select Points for Feature Interpretability and Data Valuation"
   ]
  },
  {
   "cell_type": "code",
   "execution_count": 4,
   "metadata": {
    "collapsed": true
   },
   "outputs": [],
   "source": [
    "# load 1NN results\n",
    "with open('/mnt/ds3lab-scratch/ninow/final_results/network/model_predictions/knn_1/FC_L3_1024_256_64_TD_GTI_STI_grid_1_bs_64_tf_0.1_optim_sgd_lr_0.0005_sl_24/experiment_statistic.pkl', 'rb') as handle:\n",
    "    experiment_statistic_1NN = pkl.load(handle)\n",
    "    \n",
    "# load prediction run data\n",
    "# load 1NN results\n",
    "with open('/mnt/ds3lab-scratch/ninow/final_results/network/model_predictions/knn_1/FC_L3_1024_256_64_TD_GTI_STI_grid_1_bs_64_tf_0.1_optim_sgd_lr_0.0005_sl_24/model_run_error.pkl', 'rb') as handle:\n",
    "    prediction_run_1NN = pkl.load(handle)"
   ]
  },
  {
   "cell_type": "code",
   "execution_count": 35,
   "metadata": {
    "collapsed": true
   },
   "outputs": [],
   "source": [
    "all_test_inits = [idx for idx, i in enumerate(prediction_run_1NN.run_0.init_type_mapping) if i[1] == 'test']\n",
    "test_predictions = prediction_run_1NN.run_0[all_test_inits]\n",
    "run0_prediction = test_predictions.sel(data = 'prediction', )\n",
    "run0_cosmo = test_predictions.sel(data = 'cosmo')\n",
    "run0_target = test_predictions.sel(data = 'target')\n",
    "run0_difference = test_predictions.sel(data = 'difference')"
   ]
  },
  {
   "cell_type": "markdown",
   "metadata": {},
   "source": [
    "#### Best Forecast Skill single point"
   ]
  },
  {
   "cell_type": "code",
   "execution_count": 36,
   "metadata": {},
   "outputs": [
    {
     "name": "stdout",
     "output_type": "stream",
     "text": [
      "Best Init.: 13.08.2016 09:00, Station: Vaduz, Forecast Skill = 100.00%\n"
     ]
    }
   ],
   "source": [
    "absolute_error_prediction = np.absolute(run0_prediction-run0_target)\n",
    "absolute_error_cosmo = np.absolute(run0_cosmo-run0_target)\n",
    "\n",
    "forecast_skill = 1-(absolute_error_prediction/absolute_error_cosmo)\n",
    "best_forecast_skill_idx = np.unravel_index(np.argmax(forecast_skill).item(), forecast_skill.shape)\n",
    "best_forecast_skill = forecast_skill[best_forecast_skill_idx]\n",
    "best_init = best_forecast_skill.init.item()\n",
    "best_station = best_forecast_skill.station.item()\n",
    "print(\"Best Init.: %s.%s.20%s %s:00, Station: %s, Forecast Skill = %.2f%%\" % (best_init[4:6],\n",
    "                                                                              best_init[2:4],\n",
    "                                                                              best_init[:2],\n",
    "                                                                              best_init[6:8],\n",
    "                                                                              station_names[station_idx_mapping[best_station]].item(),\n",
    "                                                                              100*best_forecast_skill))"
   ]
  },
  {
   "cell_type": "code",
   "execution_count": 38,
   "metadata": {},
   "outputs": [
    {
     "data": {
      "text/plain": [
       "(<xarray.DataArray 'run_0' ()>\n",
       " array(2.479553e-05)\n",
       " Coordinates:\n",
       "     init     <U8 '16081309'\n",
       "     station  int32 36, <xarray.DataArray 'run_0' ()>\n",
       " array(1.225244)\n",
       " Coordinates:\n",
       "     init     <U8 '16081309'\n",
       "     station  int32 36)"
      ]
     },
     "execution_count": 38,
     "metadata": {},
     "output_type": "execute_result"
    }
   ],
   "source": [
    "absolute_error_prediction[best_forecast_skill_idx], absolute_error_cosmo[best_forecast_skill_idx]"
   ]
  },
  {
   "cell_type": "code",
   "execution_count": 39,
   "metadata": {},
   "outputs": [
    {
     "data": {
      "text/plain": [
       "(330, 30)"
      ]
     },
     "execution_count": 39,
     "metadata": {},
     "output_type": "execute_result"
    }
   ],
   "source": [
    "best_forecast_skill_idx"
   ]
  },
  {
   "cell_type": "markdown",
   "metadata": {},
   "source": [
    "#### Best Forecast Skill over inits"
   ]
  },
  {
   "cell_type": "code",
   "execution_count": 8,
   "metadata": {},
   "outputs": [
    {
     "name": "stdout",
     "output_type": "stream",
     "text": [
      "Best Init.: 18.03.2016 12:00, Forecast Skill = 72.78%\n"
     ]
    }
   ],
   "source": [
    "rmse_error_prediction = np.sqrt(np.nanmean(np.square(run0_prediction-run0_target), axis=1))\n",
    "rmse_error_cosmo = np.sqrt(np.nanmean(np.square(run0_cosmo-run0_target), axis=1))\n",
    "\n",
    "forecast_skill = 1-(rmse_error_prediction/rmse_error_cosmo)\n",
    "best_forecast_skill = np.argmax(forecast_skill).item()\n",
    "best_init = run0_prediction[best_forecast_skill].init.item()\n",
    "print(\"Best Init.: %s.%s.20%s %s:00, Forecast Skill = %.2f%%\" % (best_init[4:6],\n",
    "                                                              best_init[2:4],\n",
    "                                                              best_init[:2],\n",
    "                                                              best_init[6:8],\n",
    "                                                              100*forecast_skill[best_forecast_skill]))"
   ]
  },
  {
   "cell_type": "markdown",
   "metadata": {},
   "source": [
    "#### Best Forecast Skill over stations"
   ]
  },
  {
   "cell_type": "code",
   "execution_count": 41,
   "metadata": {},
   "outputs": [
    {
     "name": "stdout",
     "output_type": "stream",
     "text": [
      "Best Station: Grimsel Hospiz (Id: 91, Idx: 83), Forecast Skill = 68.91%\n"
     ]
    }
   ],
   "source": [
    "rmse_error_prediction = np.sqrt(np.nanmean(np.square(run0_prediction-run0_target), axis=0))\n",
    "rmse_error_cosmo = np.sqrt(np.nanmean(np.square(run0_cosmo-run0_target), axis=0))\n",
    "\n",
    "forecast_skill = 1-(rmse_error_prediction/rmse_error_cosmo)\n",
    "best_forecast_skill = np.argmax(forecast_skill).item()\n",
    "best_station = run0_prediction[:,best_forecast_skill].station.item()\n",
    "print(\"Best Station: %s (Id: %s, Idx: %s), Forecast Skill = %.2f%%\" % (station_names[station_idx_mapping[best_station]].item(), best_station, station_idx_mapping[best_station],100*forecast_skill[best_forecast_skill]))"
   ]
  },
  {
   "cell_type": "code",
   "execution_count": 47,
   "metadata": {
    "collapsed": true
   },
   "outputs": [],
   "source": [
    "best_10_station_indices = np.argsort(forecast_skill)[-10:]"
   ]
  },
  {
   "cell_type": "code",
   "execution_count": 49,
   "metadata": {},
   "outputs": [
    {
     "data": {
      "image/png": "[encoded data removed]",
      "text/plain": [
       "<Figure size 432x288 with 1 Axes>"
      ]
     },
     "metadata": {},
     "output_type": "display_data"
    }
   ],
   "source": [
    "plt.plot(forecast_skill[best_10_station_indices])\n",
    "plt.show()"
   ]
  },
  {
   "cell_type": "code",
   "execution_count": 64,
   "metadata": {},
   "outputs": [
    {
     "data": {
      "text/plain": [
       "array([0.53048063, 0.54733404, 0.56961765, 0.58799973, 0.59608193,\n",
       "       0.59757883, 0.62714642, 0.62925599, 0.63766753, 0.68908702])"
      ]
     },
     "execution_count": 64,
     "metadata": {},
     "output_type": "execute_result"
    }
   ],
   "source": [
    "forecast_skill[best_10_station_indices]"
   ]
  },
  {
   "cell_type": "code",
   "execution_count": 56,
   "metadata": {},
   "outputs": [
    {
     "data": {
      "text/plain": [
       "<xarray.DataArray 'run_0' (station: 10)>\n",
       "array([0.998276, 0.860639, 1.00075 , 0.862908, 1.11308 , 0.974134, 0.726002,\n",
       "       0.794659, 0.910693, 0.793069])\n",
       "Coordinates:\n",
       "  * station  (station) int32 37 521 1024 23 317 131 35 273 96 91"
      ]
     },
     "execution_count": 56,
     "metadata": {},
     "output_type": "execute_result"
    }
   ],
   "source": [
    "np.mean(absolute_error_prediction.isel(station = best_10_station_indices),axis=0)"
   ]
  },
  {
   "cell_type": "code",
   "execution_count": 65,
   "metadata": {},
   "outputs": [
    {
     "data": {
      "text/plain": [
       "<xarray.DataArray 'run_0' (station: 10)>\n",
       "array([2.173926, 2.049918, 2.252582, 2.333005, 2.92031 , 2.509511, 2.293948,\n",
       "       2.418144, 2.758394, 2.947147])\n",
       "Coordinates:\n",
       "  * station  (station) int32 37 521 1024 23 317 131 35 273 96 91"
      ]
     },
     "execution_count": 65,
     "metadata": {},
     "output_type": "execute_result"
    }
   ],
   "source": [
    "np.mean(absolute_error_cosmo.isel(station = best_10_station_indices),axis=0)"
   ]
  },
  {
   "cell_type": "code",
   "execution_count": 66,
   "metadata": {},
   "outputs": [
    {
     "data": {
      "text/plain": [
       "0.6835084354156676"
      ]
     },
     "execution_count": 66,
     "metadata": {},
     "output_type": "execute_result"
    }
   ],
   "source": [
    "1-(0.726/2.2939)"
   ]
  },
  {
   "cell_type": "code",
   "execution_count": 57,
   "metadata": {},
   "outputs": [
    {
     "data": {
      "text/plain": [
       "<xarray.DataArray 'station_name' (station: 10)>\n",
       "array(['Aigle', 'Col des Mosses', 'Schiers', 'Passo del Bernina', 'Mottec',\n",
       "       'Binn', 'Säntis', 'Titlis', 'Robièi', 'Grimsel Hospiz'], dtype='<U24')\n",
       "Coordinates:\n",
       "  * station  (station) int32 37 521 1024 23 317 131 35 273 96 91"
      ]
     },
     "execution_count": 57,
     "metadata": {},
     "output_type": "execute_result"
    }
   ],
   "source": [
    "station_names[best_10_station_indices]"
   ]
  },
  {
   "cell_type": "code",
   "execution_count": 60,
   "metadata": {},
   "outputs": [
    {
     "data": {
      "image/png": "[encoded data removed]",
      "text/plain": [
       "<Figure size 432x288 with 1 Axes>"
      ]
     },
     "metadata": {},
     "output_type": "display_data"
    }
   ],
   "source": [
    "plt.hist(np.mean(absolute_error_prediction, axis=0),10)\n",
    "plt.show()"
   ]
  }
 ],
 "metadata": {
  "kernelspec": {
   "display_name": "Python [default]",
   "language": "python",
   "name": "python3"
  },
  "language_info": {
   "codemirror_mode": {
    "name": "ipython",
    "version": 3
   },
   "file_extension": ".py",
   "mimetype": "text/x-python",
   "name": "python",
   "nbconvert_exporter": "python",
   "pygments_lexer": "ipython3",
   "version": "3.5.4"
  }
 },
 "nbformat": 4,
 "nbformat_minor": 2
}
