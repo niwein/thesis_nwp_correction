{
 "cells": [
  {
   "cell_type": "markdown",
   "metadata": {},
   "source": [
    "## Imports"
   ]
  },
  {
   "cell_type": "code",
   "execution_count": 1,
   "metadata": {
    "collapsed": true
   },
   "outputs": [],
   "source": [
    "import glob\n",
    "import numpy as np\n",
    "import os\n",
    "import json\n",
    "\n",
    "from distutils.dir_util import copy_tree"
   ]
  },
  {
   "cell_type": "markdown",
   "metadata": {},
   "source": [
    "## Constants"
   ]
  },
  {
   "cell_type": "code",
   "execution_count": 10,
   "metadata": {
    "collapsed": true
   },
   "outputs": [],
   "source": [
    "base_experiment_path = '/home/ninow/master_thesis/code/project/results/runs/spatial_generalization_with_dropout'\n",
    "experiment_path = base_experiment_path + '/experiment'"
   ]
  },
  {
   "cell_type": "markdown",
   "metadata": {},
   "source": [
    "## Create necessary Definitions for Experiment"
   ]
  },
  {
   "cell_type": "markdown",
   "metadata": {},
   "source": [
    "The reference experiment needs an \"experiment_parameters.txt\" file, describing all experiment specific parameters. Additionally, we need the model definition folder, what is the same for each experiment.<br>\n",
    "To describe what station is the first station in a (fixed seed) randomly permutated list of sations is used for the experiment, we need to update the \"experiment_paramertes\" dixt with:<br>\n",
    "\"first_test_station\":ID_OF_FIRST_STAION"
   ]
  },
  {
   "cell_type": "code",
   "execution_count": null,
   "metadata": {
    "collapsed": true
   },
   "outputs": [],
   "source": []
  },
  {
   "cell_type": "code",
   "execution_count": 11,
   "metadata": {
    "collapsed": true
   },
   "outputs": [],
   "source": [
    "# define a distionary with experiment parameters also used for the model runs\n",
    "experiment_parameters = {\n",
    "    \"grid_size\":1,\n",
    "    \"lead_times\":[1],\n",
    "    \"prediction_times\":[1],\n",
    "    \"n_loaders\":16, \n",
    "    \"batch_size\":64,\n",
    "    \"epochs\":20,\n",
    "    \"runs\":1,\n",
    "    \"test_fraction\":0.1,\n",
    "    \"optimizer\": {\n",
    "        \"algorithm\":\"sgd\",\n",
    "        \"learning_rate\":0.0005,\n",
    "        \"lr_decay\":0.9,\n",
    "        \"momentum\":0.9},\n",
    "    \"slice_size\":21,\n",
    "    \"n_test_stations\":5,\n",
    "    \"per_station_rmse\":True\n",
    "}\n"
   ]
  },
  {
   "cell_type": "markdown",
   "metadata": {},
   "source": [
    "## Create Experiments for cross-validation over stations including all folders and necessary model configurations and experiment parameter files"
   ]
  },
  {
   "cell_type": "code",
   "execution_count": 28,
   "metadata": {
    "collapsed": true
   },
   "outputs": [],
   "source": [
    "for first_station in np.arange(0,144,5):\n",
    "    station_specific_experiment_path = experiment_path + '/first_station_%s' % first_station\n",
    "    \n",
    "    # create folder for experiment\n",
    "    if not os.path.exists(station_specific_experiment_path):\n",
    "        os.makedirs(station_specific_experiment_path + '/models')\n",
    "    \n",
    "    # copy model definition\n",
    "    copy_tree(base_experiment_path + '/experiment_definition/models/', station_specific_experiment_path + '/models/')\n",
    "    \n",
    "    # adapt experiment parameters dict to current first station and add it to the experiment folder\n",
    "    experiment_parameters['first_test_station'] = int(first_station)\n",
    "    with open(station_specific_experiment_path + '/experiment_parameters.txt', 'w') as file:\n",
    "         file.write(json.dumps(experiment_parameters))"
   ]
  },
  {
   "cell_type": "code",
   "execution_count": null,
   "metadata": {
    "collapsed": true
   },
   "outputs": [],
   "source": []
  }
 ],
 "metadata": {
  "kernelspec": {
   "display_name": "Python [default]",
   "language": "python",
   "name": "python3"
  },
  "language_info": {
   "codemirror_mode": {
    "name": "ipython",
    "version": 3
   },
   "file_extension": ".py",
   "mimetype": "text/x-python",
   "name": "python",
   "nbconvert_exporter": "python",
   "pygments_lexer": "ipython3",
   "version": "3.5.4"
  }
 },
 "nbformat": 4,
 "nbformat_minor": 2
}
