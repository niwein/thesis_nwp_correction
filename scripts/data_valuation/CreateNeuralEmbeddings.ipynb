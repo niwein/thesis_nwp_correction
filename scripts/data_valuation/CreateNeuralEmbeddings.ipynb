{
 "cells": [
  {
   "cell_type": "markdown",
   "metadata": {},
   "source": [
    "### Imports"
   ]
  },
  {
   "cell_type": "code",
   "execution_count": 1,
   "metadata": {
    "collapsed": true,
    "scrolled": false
   },
   "outputs": [],
   "source": [
    "import pickle as pkl\n",
    "import pandas as pd\n",
    "import json\n",
    "import os\n",
    "import torch.optim as optim\n",
    "import shap\n",
    "from matplotlib import pyplot as plt\n",
    "from torch.autograd import Variable"
   ]
  },
  {
   "cell_type": "markdown",
   "metadata": {},
   "source": [
    "#### Import model definitions <br>\n",
    "The relevant change in the model definition to receive the neural embeddings is in \"EmbeddingFullyConnectedSingleGrid3L\""
   ]
  },
  {
   "cell_type": "code",
   "execution_count": 2,
   "metadata": {
    "collapsed": true
   },
   "outputs": [],
   "source": [
    "# %load /home/ninow/master_thesis/code/project/model/Baseline.py\n",
    "import torch\n",
    "import torch.nn as nn\n",
    "import torch.nn.functional as F\n",
    "\n",
    "\n",
    "class AbstractNetwork(nn.Module):\n",
    "    n_station_features = 3\n",
    "    n_time_features = 5\n",
    "\n",
    "    def num_flat_features(self, x):\n",
    "        size = x.size()[1:]  # all dimensions except the batch dimension\n",
    "        num_features = 1\n",
    "        for s in size:\n",
    "            num_features *= s\n",
    "        return num_features\n",
    "\n",
    "    def getNumberOfAdditionalFeatures(self, useSTI, useTimeData):\n",
    "        return (self.n_station_features if useSTI else 0) + (self.n_time_features if useTimeData else 0)\n",
    "\n",
    "    def getAdditionaFeatureHandling(self, useSTI, useTimeData):\n",
    "        if useSTI and useTimeData:\n",
    "            return lambda x, time_features, station_data: torch.cat((x, time_features, station_data), 1)\n",
    "        elif useSTI:\n",
    "            return lambda x, _, station_data: torch.cat((x, station_data), 1)\n",
    "        elif useTimeData:\n",
    "            return lambda x, time_features, _: torch.cat((x, time_features), 1)\n",
    "        else:\n",
    "            return lambda x, *_: x\n",
    "\n",
    "\n",
    "class CNN(AbstractNetwork):\n",
    "    def conv_out_size(self, grid_in, grid_conv, stride):\n",
    "        return int((grid_in - grid_conv) / stride + 1)\n",
    "\n",
    "\n",
    "class CNN0L(CNN):\n",
    "    def __init__(self, filter_conv1, grid_conv1, stride, n_parameters, n_time_invariant_parameters, n_grid,\n",
    "                 useSTI, useTimeData, prediction_times):\n",
    "        super(CNN0L, self).__init__()\n",
    "        self.prediciton_times = prediction_times\n",
    "        self.n_predictions = len(prediction_times)\n",
    "        self.conv1 = nn.Conv2d(n_parameters + 1 + n_time_invariant_parameters, filter_conv1, grid_conv1)\n",
    "        self.addNonGridFeatures = self.getAdditionaFeatureHandling(useSTI, useTimeData)\n",
    "        self.fc1 = nn.Linear(\n",
    "            filter_conv1 * (self.conv_out_size(n_grid, grid_conv1, stride) ** 2) + self.getNumberOfAdditionalFeatures(\n",
    "                useSTI, useTimeData), self.n_predictions)\n",
    "\n",
    "    def forward(self, x, time_features, station_features):\n",
    "        x = F.relu(self.conv1(x))\n",
    "        x = x.view(-1, self.num_flat_features(x))\n",
    "        x = self.addNonGridFeatures(x, time_features, station_features)\n",
    "        x = self.fc1(x)\n",
    "        return x\n",
    "\n",
    "\n",
    "class CNN1L(CNN0L):\n",
    "    def __init__(self, filter_conv1, grid_conv1, stride, n_fc1, n_parameters, n_time_invariant_parameters, n_grid,\n",
    "                 useSTI, useTimeData, prediction_times):\n",
    "        super(CNN1L, self).__init__(filter_conv1, grid_conv1, stride, n_parameters, n_time_invariant_parameters,\n",
    "                                    n_grid, useSTI, useTimeData, prediction_times)\n",
    "        self.fc1 = nn.Linear(\n",
    "            filter_conv1 * (self.conv_out_size(n_grid, grid_conv1, stride) ** 2) + self.getNumberOfAdditionalFeatures(\n",
    "                useSTI, useTimeData), n_fc1)\n",
    "        self.fc2 = nn.Linear(n_fc1, self.n_predictions)\n",
    "\n",
    "    def forward(self, x, time_features, station_features):\n",
    "        x = F.relu(super(CNN1L, self).forward(x, time_features, station_features))\n",
    "        x = self.fc2(x)\n",
    "        return x\n",
    "\n",
    "\n",
    "class CNN2L(CNN1L):\n",
    "    def __init__(self, filter_conv1, grid_conv1, stride, n_fc1, n_fc2, n_parameters, n_time_invariant_parameters,\n",
    "                 n_grid,\n",
    "                 useSTI, useTimeData, prediction_times):\n",
    "        super(CNN2L, self).__init__(filter_conv1, grid_conv1, stride, n_fc1, n_parameters,\n",
    "                                    n_time_invariant_parameters, n_grid,\n",
    "                                    useSTI, useTimeData, prediction_times)\n",
    "        self.fc2 = nn.Linear(n_fc1, n_fc2)\n",
    "        self.fc3 = nn.Linear(n_fc2, self.n_predictions)\n",
    "\n",
    "    def forward(self, x, time_features, station_features):\n",
    "        x = F.relu(super(CNN2L, self).forward(x, time_features, station_features))\n",
    "        x = self.fc3(x)\n",
    "        return x\n",
    "\n",
    "\n",
    "class FullyConnected1L(AbstractNetwork):\n",
    "    def __init__(self, n_fc1, n_parameters, n_time_invariant_parameters, n_grid, useSTI, useTimeData, prediction_times):\n",
    "        super(FullyConnected1L, self).__init__()\n",
    "        self.prediciton_times = prediction_times\n",
    "        self.n_predictions = len(prediction_times)\n",
    "        # n_parameters: features of cosmo grid depending on lead time, 1: temperature of lead time = 0,\n",
    "        # n_time_invariant_parameters: time invariant grid features such as soil type, fraction of land, height diff.\n",
    "        # to station, etc.\n",
    "        self.fc1 = nn.Linear((n_parameters + 1 + n_time_invariant_parameters) * (n_grid ** 2), n_fc1)\n",
    "        self.addNonGridFeatures = self.getAdditionaFeatureHandling(useSTI, useTimeData)\n",
    "        self.fc2 = nn.Linear(n_fc1 + self.getNumberOfAdditionalFeatures(useSTI, useTimeData), self.n_predictions)\n",
    "\n",
    "    def forward(self, x, time_features, station_features):\n",
    "        x = x.view(-1, self.num_flat_features(x))\n",
    "        x = F.relu(self.fc1(x))\n",
    "        x = self.addNonGridFeatures(x, time_features, station_features)\n",
    "        x = self.fc2(x)\n",
    "        return x\n",
    "\n",
    "\n",
    "class FullyConnected2L(FullyConnected1L):\n",
    "    def __init__(self, n_fc1, n_fc2, n_parameters, n_time_invariant_parameters, n_grid, useSTI,\n",
    "                 useTimeData, prediction_times):\n",
    "        super(FullyConnected2L, self).__init__(n_fc1, n_parameters, n_time_invariant_parameters, n_grid,\n",
    "                                               useSTI, useTimeData, prediction_times)\n",
    "        self.fc2 = nn.Linear(n_fc1 + self.getNumberOfAdditionalFeatures(useSTI, useTimeData), n_fc2)\n",
    "        self.fc3 = nn.Linear(n_fc2, self.n_predictions)\n",
    "\n",
    "    def forward(self, x, time_features, station_features):\n",
    "        x = F.relu(super(FullyConnected2L, self).forward(x, time_features, station_features))\n",
    "        x = self.fc3(x)\n",
    "        return x\n",
    "\n",
    "\n",
    "class FullyConnected3L(FullyConnected2L):\n",
    "    def __init__(self, n_fc1, n_fc2, n_fc3, n_parameters, n_time_invariant_parameters, n_grid, useSTI,\n",
    "                 useTimeData, prediction_times):\n",
    "        super(FullyConnected3L, self).__init__(n_fc1, n_fc2, n_parameters, n_time_invariant_parameters, n_grid,\n",
    "                                               useSTI, useTimeData, prediction_times)\n",
    "        self.fc3 = nn.Linear(n_fc2, n_fc3)\n",
    "        self.fc4 = nn.Linear(n_fc3, self.n_predictions)\n",
    "\n",
    "    def forward(self, x, time_features, station_features):\n",
    "        x = F.relu(super(FullyConnected3L, self).forward(x, time_features, station_features))\n",
    "        x = self.fc4(x)\n",
    "        return x\n",
    "\n",
    "class FullyConnectedSingleGrid1L(AbstractNetwork):\n",
    "    def __init__(self, n_fc1, n_parameters, n_time_invariant_parameters, useSTI, useTimeData, prediction_times, n_points=1):\n",
    "        super(FullyConnectedSingleGrid1L, self).__init__()\n",
    "        self.prediciton_times = prediction_times\n",
    "        self.n_predictions = len(prediction_times)\n",
    "        # n_parameters: features of cosmo grid depending on lead time, 1: temperature of lead time = 0,\n",
    "        # n_time_invariant_parameters: time invariant grid features such as soil type, fraction of land, height diff.\n",
    "        # to station, etc.\n",
    "        self.addNonGridFeatures = self.getAdditionaFeatureHandling(useSTI, useTimeData)\n",
    "        self.fc1 = nn.Linear(((n_parameters + 1 + n_time_invariant_parameters) * n_points + self.getNumberOfAdditionalFeatures(useSTI, useTimeData)), n_fc1)\n",
    "        self.fc2 = nn.Linear(n_fc1, self.n_predictions)\n",
    "\n",
    "    def forward(self, x, time_features, station_features):\n",
    "        x = self.addNonGridFeatures(x, time_features, station_features)\n",
    "        x = x.view(-1, self.num_flat_features(x))\n",
    "        x = F.relu(self.fc1(x))\n",
    "        x = self.fc2(x)\n",
    "        return x\n",
    "\n",
    "\n",
    "class FullyConnectedSingleGrid2L(FullyConnectedSingleGrid1L):\n",
    "    def __init__(self, n_fc1, n_fc2, n_parameters, n_time_invariant_parameters, useSTI, useTimeData, prediction_times,n_points=1):\n",
    "        super(FullyConnectedSingleGrid2L, self).__init__(n_fc1, n_parameters, n_time_invariant_parameters,\n",
    "                                               useSTI, useTimeData, prediction_times,n_points)\n",
    "        self.fc2 = nn.Linear(n_fc1, n_fc2)\n",
    "        self.fc3 = nn.Linear(n_fc2, self.n_predictions)\n",
    "\n",
    "    def forward(self, x, time_features, station_features):\n",
    "        x = F.relu(super(FullyConnectedSingleGrid2L, self).forward(x, time_features, station_features))\n",
    "        x = self.fc3(x)\n",
    "        return x\n",
    "\n",
    "\n",
    "class FullyConnectedSingleGrid3L(FullyConnectedSingleGrid2L):\n",
    "    def __init__(self, n_fc1, n_fc2, n_fc3, n_parameters, n_time_invariant_parameters, useSTI, useTimeData, prediction_times,n_points=1):\n",
    "        super(FullyConnectedSingleGrid3L, self).__init__(n_fc1, n_fc2, n_parameters, n_time_invariant_parameters,\n",
    "                                               useSTI, useTimeData, prediction_times,n_points)\n",
    "        self.fc3 = nn.Linear(n_fc2, n_fc3)\n",
    "        self.fc4 = nn.Linear(n_fc3, self.n_predictions)\n",
    "\n",
    "    def forward(self, x, time_features, station_features):\n",
    "        x = F.relu(super(FullyConnectedSingleGrid3L, self).forward(x, time_features, station_features))\n",
    "        x = self.fc4(x)\n",
    "        return x\n",
    "    \n",
    "class EmbeddingFullyConnectedSingleGrid3L(FullyConnectedSingleGrid3L):\n",
    "    def __init__(self, n_fc1, n_fc2, n_fc3, n_parameters, n_time_invariant_parameters, useSTI, useTimeData, prediction_times,n_points=1):\n",
    "        super(EmbeddingFullyConnectedSingleGrid3L, self).__init__(n_fc1, n_fc2, n_fc3, n_parameters, n_time_invariant_parameters, useSTI, useTimeData, prediction_times,n_points)\n",
    "        self.fc3 = nn.Linear(n_fc2, n_fc3)\n",
    "        self.fc4 = nn.Linear(n_fc3, self.n_predictions)\n",
    "\n",
    "    def forward(self, x, time_features, station_features):\n",
    "        x = F.relu(super(FullyConnectedSingleGrid3L, self).forward(x, time_features, station_features))\n",
    "        return x\n",
    "\n",
    "\n",
    "def model_factory(model_dict, params, time_invariant_params, grid, prediction_times):\n",
    "    # CNN\n",
    "    if model_dict['type'] == 'CNN':\n",
    "        if not 'fc_layers' in model_dict:\n",
    "            return CNN0L(filter_conv1=model_dict['n_conv1'],\n",
    "                         grid_conv1=model_dict['grid_conv1'],\n",
    "                         stride=model_dict['stride'],\n",
    "                         n_parameters=params,\n",
    "                         n_time_invariant_parameters=time_invariant_params,\n",
    "                         n_grid=grid,\n",
    "                         useSTI=model_dict[\n",
    "                             'station_time_invariant'] if 'station_time_invariant' in model_dict else True,\n",
    "                         useTimeData=model_dict['useTimeData'] if 'useTimeData' in model_dict else True,\n",
    "                         prediction_times=prediction_times)\n",
    "\n",
    "        elif model_dict['fc_layers'] == 1:\n",
    "            return CNN1L(filter_conv1=model_dict['n_conv1'],\n",
    "                         grid_conv1=model_dict['grid_conv1'],\n",
    "                         stride=model_dict['stride'],\n",
    "                         n_fc1=model_dict['n_fc1'],\n",
    "                         n_parameters=params,\n",
    "                         n_time_invariant_parameters=time_invariant_params,\n",
    "                         n_grid=grid,\n",
    "                         useSTI=model_dict[\n",
    "                             'station_time_invariant'] if 'station_time_invariant' in model_dict else True,\n",
    "                         useTimeData=model_dict['useTimeData'] if 'useTimeData' in model_dict else True,\n",
    "                         prediction_times=prediction_times)\n",
    "        elif model_dict['fc_layers'] == 2:\n",
    "            return CNN2L(filter_conv1=model_dict['n_conv1'],\n",
    "                         grid_conv1=model_dict['grid_conv1'],\n",
    "                         stride=model_dict['stride'],\n",
    "                         n_fc1=model_dict['n_fc1'],\n",
    "                         n_fc2=model_dict['n_fc2'],\n",
    "                         n_parameters=params,\n",
    "                         n_time_invariant_parameters=time_invariant_params,\n",
    "                         n_grid=grid,\n",
    "                         useSTI=model_dict[\n",
    "                             'station_time_invariant'] if 'station_time_invariant' in model_dict else True,\n",
    "                         useTimeData=model_dict['useTimeData'] if 'useTimeData' in model_dict else True,\n",
    "                         prediction_times=prediction_times)\n",
    "\n",
    "    # Fully connected network\n",
    "    elif model_dict['type'] == 'FC':\n",
    "        if grid == 1:\n",
    "            if 'knn' in model_dict:\n",
    "                n_points = 3\n",
    "            else:\n",
    "                n_points = 1\n",
    "            if model_dict['fc_layers'] == 1:\n",
    "                return FullyConnectedSingleGrid1L(n_fc1=model_dict['n_fc1'],\n",
    "                                        n_parameters=params,\n",
    "                                        n_time_invariant_parameters=time_invariant_params,\n",
    "                                        useSTI=model_dict[\n",
    "                                            'station_time_invariant'] if 'station_time_invariant' in model_dict else True,\n",
    "                                        useTimeData=model_dict['useTimeData'] if 'useTimeData' in model_dict else True,\n",
    "                                        prediction_times=prediction_times,\n",
    "                                        n_points=n_points)\n",
    "            elif model_dict['fc_layers'] == 2:\n",
    "                return FullyConnectedSingleGrid2L(n_fc1=model_dict['n_fc1'],\n",
    "                                        n_fc2=model_dict['n_fc2'],\n",
    "                                        n_parameters=params,\n",
    "                                        n_time_invariant_parameters=time_invariant_params,\n",
    "                                        useSTI=model_dict[\n",
    "                                            'station_time_invariant'] if 'station_time_invariant' in model_dict else True,\n",
    "                                        useTimeData=model_dict['useTimeData'] if 'useTimeData' in model_dict else True,\n",
    "                                        prediction_times=prediction_times,\n",
    "                                        n_points=n_points)\n",
    "            elif model_dict['fc_layers'] == 3:\n",
    "                return EmbeddingFullyConnectedSingleGrid3L(n_fc1=model_dict['n_fc1'],\n",
    "                                        n_fc2=model_dict['n_fc2'],\n",
    "                                        n_fc3=model_dict['n_fc3'],\n",
    "                                        n_parameters=params,\n",
    "                                        n_time_invariant_parameters=time_invariant_params,\n",
    "                                        useSTI=model_dict[\n",
    "                                            'station_time_invariant'] if 'station_time_invariant' in model_dict else True,\n",
    "                                        useTimeData=model_dict['useTimeData'] if 'useTimeData' in model_dict else True,\n",
    "                                        prediction_times=prediction_times,\n",
    "                                        n_points=n_points)\n",
    "\n",
    "        else:\n",
    "            if model_dict['fc_layers'] == 1:\n",
    "                return FullyConnected1L(n_fc1=model_dict['n_fc1'],\n",
    "                                        n_parameters=params,\n",
    "                                        n_time_invariant_parameters=time_invariant_params,\n",
    "                                        n_grid=grid,\n",
    "                                        useSTI=model_dict[\n",
    "                                            'station_time_invariant'] if 'station_time_invariant' in model_dict else True,\n",
    "                                        useTimeData=model_dict['useTimeData'] if 'useTimeData' in model_dict else True,\n",
    "                                        prediction_times=prediction_times)\n",
    "            elif model_dict['fc_layers'] == 2:\n",
    "                return FullyConnected2L(n_fc1=model_dict['n_fc1'],\n",
    "                                        n_fc2=model_dict['n_fc2'],\n",
    "                                        n_parameters=params,\n",
    "                                        n_time_invariant_parameters=time_invariant_params,\n",
    "                                        n_grid=grid,\n",
    "                                        useSTI=model_dict[\n",
    "                                            'station_time_invariant'] if 'station_time_invariant' in model_dict else True,\n",
    "                                        useTimeData=model_dict['useTimeData'] if 'useTimeData' in model_dict else True,\n",
    "                                        prediction_times=prediction_times)\n",
    "            elif model_dict['fc_layers'] == 3:\n",
    "                return FullyConnected3L(n_fc1=model_dict['n_fc1'],\n",
    "                                        n_fc2=model_dict['n_fc2'],\n",
    "                                        n_fc3=model_dict['n_fc3'],\n",
    "                                        n_parameters=params,\n",
    "                                        n_time_invariant_parameters=time_invariant_params,\n",
    "                                        n_grid=grid,\n",
    "                                        useSTI=model_dict[\n",
    "                                            'station_time_invariant'] if 'station_time_invariant' in model_dict else True,\n",
    "                                        useTimeData=model_dict['useTimeData'] if 'useTimeData' in model_dict else True,\n",
    "                                        prediction_times=prediction_times)\n",
    "\n",
    "    raise Exception('No matching model found for name \\\"%s\\\"' % model_dict['name'])\n"
   ]
  },
  {
   "cell_type": "code",
   "execution_count": null,
   "metadata": {
    "collapsed": true
   },
   "outputs": [],
   "source": []
  },
  {
   "cell_type": "markdown",
   "metadata": {},
   "source": [
    "### Get input data <br>\n",
    "We have to define, where to find the network ready training and test data is located"
   ]
  },
  {
   "cell_type": "code",
   "execution_count": 3,
   "metadata": {
    "collapsed": true,
    "scrolled": false
   },
   "outputs": [],
   "source": [
    "config = pkl.load(open('/home/ninow/master_thesis/code/project/results/runs/knn_1/shap/config.pkl', 'rb'))\n",
    "\n",
    "train_set = pd.read_pickle(config['shap_train_data_path'])\n",
    "test_set = pd.read_pickle(config['shap_test_data_path'])"
   ]
  },
  {
   "cell_type": "code",
   "execution_count": null,
   "metadata": {
    "collapsed": true,
    "scrolled": false
   },
   "outputs": [],
   "source": []
  },
  {
   "cell_type": "markdown",
   "metadata": {},
   "source": [
    "## Define wrapper to use pytorch NN"
   ]
  },
  {
   "cell_type": "code",
   "execution_count": 4,
   "metadata": {
    "collapsed": true,
    "scrolled": false
   },
   "outputs": [],
   "source": [
    "def network_output_wrapper(net, X):\n",
    "    grid_data = getVariable(torch.Tensor(X[:,:22])).float()\n",
    "    if X.shape[1] >= 30:\n",
    "        station_time_inv_input = getVariable(torch.Tensor(X[:,22:25])).float()\n",
    "    else:\n",
    "        station_time_inv_input = None\n",
    "    time_data = getVariable(torch.Tensor(X[:,-5:])).float()\n",
    "    return net(grid_data, time_data, station_time_inv_input).data.cpu().numpy()\n",
    "\n",
    "# wrapper for pytorch network output\n",
    "f = lambda X: network_output_wrapper(net=net, X=X)"
   ]
  },
  {
   "cell_type": "code",
   "execution_count": 5,
   "metadata": {
    "collapsed": true,
    "scrolled": false
   },
   "outputs": [],
   "source": [
    "def getVariable(tensor):\n",
    "    if torch.cuda.is_available():\n",
    "        input = Variable(tensor.cuda())\n",
    "    else:\n",
    "        input = Variable(tensor)\n",
    "    return input"
   ]
  },
  {
   "cell_type": "code",
   "execution_count": 6,
   "metadata": {
    "collapsed": true,
    "scrolled": false
   },
   "outputs": [],
   "source": [
    "# load trained network from a specified experiment folder\n",
    "def load_checkpoint(path, model, optimizer):\n",
    "    file_path = path + '/model_best.pth.tar'\n",
    "    if os.path.isfile(file_path):\n",
    "        print(\"Loading checkpoint from: %s\" % file_path)\n",
    "        checkpoint = torch.load(file_path)\n",
    "        epoch = checkpoint['epoch'] + 1\n",
    "        best_epoch_test_rmse = checkpoint['best_epoch_test_rmse']\n",
    "        model.load_state_dict(checkpoint['state_dict'])\n",
    "        optimizer.load_state_dict(checkpoint['optimizer'])\n",
    "        print(\"Loaded checkpoint with best test rmse %s (epoch %s)\" % (best_epoch_test_rmse, checkpoint['epoch']))\n",
    "    else:\n",
    "        raise Exception(\"No checkpoint found at %s\" % file_path)\n",
    "    return model, optimizer, epoch, best_epoch_test_rmse"
   ]
  },
  {
   "cell_type": "markdown",
   "metadata": {},
   "source": [
    "## Load trained network"
   ]
  },
  {
   "cell_type": "code",
   "execution_count": 7,
   "metadata": {
    "scrolled": false
   },
   "outputs": [
    {
     "name": "stdout",
     "output_type": "stream",
     "text": [
      "Loading checkpoint from: /home/ninow/master_thesis/code/project/results/runs/knn_1/FC_L3_1024_256_64_TD_GTI_STI_grid_1_bs_64_tf_0.1_optim_sgd_lr_0.0005_sl_24/stored_models/run_0/model_best.pth.tar\n",
      "Loaded checkpoint with best test rmse 1.2868086604823532 (epoch 27)\n"
     ]
    }
   ],
   "source": [
    "# assign all program arguments to local variables\n",
    "with open(config['model']['path']) as handle:\n",
    "    ModelDict = json.loads(handle.read())\n",
    "\n",
    "# initialize network, optimizer and loss function£\n",
    "net = model_factory(model_dict=ModelDict, params=len(config['input_parameters']),\n",
    "                             time_invariant_params=len(config['grid_time_invariant_parameters']),\n",
    "                             grid=config['grid_size'], prediction_times=config['prediction_times'])\n",
    "\n",
    "# get optimizer config\n",
    "optimizer_config = config['optimizer']\n",
    "\n",
    "# if not explicitly specified, don't use regularization\n",
    "if 'weight_decay' not in optimizer_config: optimizer_config['weight_decay'] = 0\n",
    "\n",
    "optimizer = torch.optim.SGD(net.parameters(), lr=optimizer_config['learning_rate'],\n",
    "                            momentum=optimizer_config['momentum'], weight_decay=optimizer_config['weight_decay'])\n",
    "\n",
    "\n",
    "net, optimizer, *_ = load_checkpoint(config['trained_model_output_path'] + '/stored_models/run_0', model=net,\n",
    "                                                optimizer=optimizer)\n",
    "if torch.cuda.is_available():\n",
    "    net.cuda()"
   ]
  },
  {
   "cell_type": "markdown",
   "metadata": {},
   "source": [
    "### Prepare data"
   ]
  },
  {
   "cell_type": "code",
   "execution_count": 14,
   "metadata": {
    "collapsed": true
   },
   "outputs": [],
   "source": [
    "# fix seed to randomly sample 1000 samples from ~1M train points\n",
    "seed = 17257\n",
    "# create training and test set\n",
    "training_data = train_set.iloc[:,2:-1]\n",
    "training_labels = train_set.iloc[:,-1]\n",
    "test_data = test_set.iloc[:,2:-1]\n",
    "test_labels = test_set.iloc[:,-1]"
   ]
  },
  {
   "cell_type": "markdown",
   "metadata": {},
   "source": [
    "### Create neural embeddings"
   ]
  },
  {
   "cell_type": "code",
   "execution_count": 9,
   "metadata": {
    "collapsed": true
   },
   "outputs": [],
   "source": [
    "# calculate embeddings\n",
    "training_embeddings = network_output_wrapper(net, training_data.as_matrix())\n",
    "test_embeddings = network_output_wrapper(net, test_data.as_matrix())\n",
    "# generate pandas data fram by adding init and station for each embedding\n",
    "train_embeddings_data_frame = pd.concat((train_set[['Init', 'Station']], pd.DataFrame(data=training_embeddings)), axis=1)\n",
    "test_embeddings_data_frame = pd.concat((test_set[['Init', 'Station']], pd.DataFrame(data=test_embeddings)), axis=1)"
   ]
  },
  {
   "cell_type": "markdown",
   "metadata": {},
   "source": [
    "### Create final dataset"
   ]
  },
  {
   "cell_type": "code",
   "execution_count": 19,
   "metadata": {
    "collapsed": true
   },
   "outputs": [],
   "source": [
    "# create dictionary to be dumped\n",
    "neural_embeddings = {'train_embeddings' : train_embeddings_data_frame, 'train_labels' : training_labels,\n",
    "                     'test_embeddings' : test_embeddings_data_frame, 'test_labels' : test_labels}"
   ]
  },
  {
   "cell_type": "markdown",
   "metadata": {},
   "source": [
    "### Store neural embeddings"
   ]
  },
  {
   "cell_type": "code",
   "execution_count": 20,
   "metadata": {
    "collapsed": true
   },
   "outputs": [],
   "source": [
    "with open('/home/ninow/master_thesis/code/project/results/data_valuation/neural_embeddings.pkl','wb') as handle:\n",
    "    pkl.dump(neural_embeddings, handle, protocol=pkl.HIGHEST_PROTOCOL)"
   ]
  }
 ],
 "metadata": {
  "kernelspec": {
   "display_name": "Python [default]",
   "language": "python",
   "name": "python3"
  },
  "language_info": {
   "codemirror_mode": {
    "name": "ipython",
    "version": 3
   },
   "file_extension": ".py",
   "mimetype": "text/x-python",
   "name": "python",
   "nbconvert_exporter": "python",
   "pygments_lexer": "ipython3",
   "version": "3.5.4"
  }
 },
 "nbformat": 4,
 "nbformat_minor": 2
}
